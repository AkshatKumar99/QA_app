{
 "cells": [
  {
   "cell_type": "markdown",
   "id": "20305b41",
   "metadata": {},
   "source": [
    "# Transcript Extractor"
   ]
  },
  {
   "cell_type": "markdown",
   "id": "98b57c77",
   "metadata": {},
   "source": [
    "## CoreIM"
   ]
  },
  {
   "cell_type": "code",
   "execution_count": null,
   "id": "7f8cec6d",
   "metadata": {},
   "outputs": [
    {
     "ename": "",
     "evalue": "",
     "output_type": "error",
     "traceback": [
      "\u001b[1;31mThe kernel failed to start as the Python Environment 'QAapp (Python -1.-1.-1)' is no longer available. Consider selecting another kernel or refreshing the list of Python Environments."
     ]
    }
   ],
   "source": [
    "2+2"
   ]
  },
  {
   "cell_type": "code",
   "execution_count": null,
   "id": "d0503e28",
   "metadata": {},
   "outputs": [],
   "source": []
  }
 ],
 "metadata": {
  "kernelspec": {
   "display_name": "QAapp",
   "language": "python",
   "name": "python3"
  },
  "language_info": {
   "name": "python",
   "version": "undefined.undefined.undefined"
  }
 },
 "nbformat": 4,
 "nbformat_minor": 5
}
