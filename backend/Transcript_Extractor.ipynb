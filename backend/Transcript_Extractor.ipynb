{
 "cells": [
  {
   "cell_type": "markdown",
   "id": "20305b41",
   "metadata": {},
   "source": [
    "# Transcript Extractor"
   ]
  },
  {
   "cell_type": "markdown",
   "id": "98b57c77",
   "metadata": {},
   "source": [
    "## CoreIM"
   ]
  },
  {
   "cell_type": "code",
   "execution_count": 4,
   "id": "7f8cec6d",
   "metadata": {},
   "outputs": [],
   "source": [
    "import requests\n",
    "from bs4 import BeautifulSoup\n",
    "import pandas as pd\n",
    "import time"
   ]
  },
  {
   "cell_type": "code",
   "execution_count": 20,
   "id": "d0503e28",
   "metadata": {},
   "outputs": [],
   "source": [
    "headers = {\n",
    "    \"User-Agent\": \"Mozilla/5.0 (Windows NT 10.0; Win64; x64) \"\n",
    "                  \"AppleWebKit/537.36 (KHTML, like Gecko) \"\n",
    "                  \"Chrome/114.0.0.0 Safari/537.36\",\n",
    "    \"Accept-Language\": \"en-US,en;q=0.9\",\n",
    "    \"Accept\": \"text/html,application/xhtml+xml,application/xml;q=0.9,image/webp,*/*;q=0.8\",\n",
    "    \"Referer\": \"https://www.google.com/\"\n",
    "}\n",
    "\n",
    "session = requests.Session()\n",
    "\n",
    "def get_episode_links(max_pg=24):\n",
    "    all_links = []\n",
    "    for page in range(1, max_pg):\n",
    "        url = f\"https://www.coreimpodcast.com/category/episodes-by-topic/page/{page}/\"\n",
    "        print(f\"Scraping page: {url}\")\n",
    "        res = session.get(url, headers=headers)\n",
    "        if res.status_code != 200:\n",
    "            print(f\"Warning: Received status code {res.status_code} for page {page}\")\n",
    "            continue\n",
    "        soup = BeautifulSoup(res.text, \"html.parser\")\n",
    "        links = [a['href'] for a in soup.select(\"h2.entry-title a\")]\n",
    "        all_links.extend(links)\n",
    "        time.sleep(1.5)\n",
    "    return all_links"
   ]
  },
  {
   "cell_type": "code",
   "execution_count": 21,
   "id": "fcbc5263",
   "metadata": {},
   "outputs": [
    {
     "name": "stdout",
     "output_type": "stream",
     "text": [
      "Scraping page: https://www.coreimpodcast.com/category/episodes-by-topic/page/1/\n",
      "Warning: Received status code 202 for page 1\n"
     ]
    }
   ],
   "source": [
    "links = get_episode_links(2)"
   ]
  },
  {
   "cell_type": "code",
   "execution_count": 22,
   "id": "9b761adf",
   "metadata": {},
   "outputs": [
    {
     "name": "stdout",
     "output_type": "stream",
     "text": [
      "[]\n"
     ]
    }
   ],
   "source": [
    "print(links)"
   ]
  },
  {
   "cell_type": "code",
   "execution_count": 24,
   "id": "224066e3",
   "metadata": {},
   "outputs": [],
   "source": [
    "url = f\"https://www.coreimpodcast.com/category/episodes-by-topic/page/{1}/\"\n",
    "session = requests.Session()\n",
    "res = session.get(url, headers=headers)"
   ]
  },
  {
   "cell_type": "code",
   "execution_count": 26,
   "id": "b1080f2d",
   "metadata": {},
   "outputs": [
    {
     "name": "stdout",
     "output_type": "stream",
     "text": [
      "202\n",
      "https://www.coreimpodcast.com/category/episodes-by-topic/page/1/\n",
      "<html><head><link rel=\"icon\" href=\"data:;\"><meta http-equiv=\"refresh\" content=\"0;/.well-known/sgcaptcha/?r=%2Fcategory%2Fepisodes-by-topic%2Fpage%2F1%2F&y=ipc:99.106.63.80:1747424053.258\"></meta></head></html>\n"
     ]
    }
   ],
   "source": [
    "print(res.status_code)\n",
    "print(res.url)\n",
    "print(res.text[:500])  # Peek at first 500 chars to see what it returns"
   ]
  },
  {
   "cell_type": "code",
   "execution_count": 28,
   "id": "5ac444c9",
   "metadata": {},
   "outputs": [],
   "source": [
    "from selenium import webdriver\n",
    "from selenium.webdriver.chrome.options import Options\n",
    "from selenium.webdriver.common.by import By\n",
    "import time\n",
    "import pandas as pd\n",
    "\n",
    "def get_episode_links_selenium(num_pages=23):\n",
    "    options = Options()\n",
    "    options.add_argument(\"--headless\")\n",
    "    options.add_argument(\"--disable-gpu\")\n",
    "    options.add_argument(\"--no-sandbox\")\n",
    "    options.add_argument(\"--window-size=1920,1080\")\n",
    "    options.add_argument(\"--disable-dev-shm-usage\")\n",
    "\n",
    "    driver = webdriver.Chrome(options=options)\n",
    "\n",
    "    base_url = \"https://www.coreimpodcast.com/category/episodes-by-topic/page/\"\n",
    "\n",
    "    all_links = []\n",
    "\n",
    "    for page_num in range(1, num_pages + 1):\n",
    "        url = f\"{base_url}{page_num}/\"\n",
    "        print(f\"Loading page: {url}\")\n",
    "        driver.get(url)\n",
    "        time.sleep(3)  # wait for page to load fully\n",
    "\n",
    "        # Find all episode links - they are inside h2 elements with class \"entry-title\"\n",
    "        episode_elements = driver.find_elements(By.CSS_SELECTOR, \"h2.entry-title a\")\n",
    "        page_links = [elem.get_attribute(\"href\") for elem in episode_elements]\n",
    "\n",
    "        print(f\"Found {len(page_links)} episodes on page {page_num}\")\n",
    "        all_links.extend(page_links)\n",
    "\n",
    "    driver.quit()\n",
    "    return all_links\n"
   ]
  },
  {
   "cell_type": "code",
   "execution_count": 29,
   "id": "01d9bf9d",
   "metadata": {},
   "outputs": [
    {
     "name": "stdout",
     "output_type": "stream",
     "text": [
      "Loading page: https://www.coreimpodcast.com/category/episodes-by-topic/page/1/\n",
      "Found 0 episodes on page 1\n",
      "Loading page: https://www.coreimpodcast.com/category/episodes-by-topic/page/2/\n",
      "Found 0 episodes on page 2\n"
     ]
    }
   ],
   "source": [
    "links = get_episode_links_selenium(2)"
   ]
  },
  {
   "cell_type": "code",
   "execution_count": 30,
   "id": "1351d406",
   "metadata": {},
   "outputs": [
    {
     "data": {
      "text/plain": [
       "[]"
      ]
     },
     "execution_count": 30,
     "metadata": {},
     "output_type": "execute_result"
    }
   ],
   "source": [
    "links"
   ]
  },
  {
   "cell_type": "code",
   "execution_count": null,
   "id": "ce7a9f73",
   "metadata": {},
   "outputs": [],
   "source": []
  }
 ],
 "metadata": {
  "kernelspec": {
   "display_name": "QAapp",
   "language": "python",
   "name": "python3"
  },
  "language_info": {
   "codemirror_mode": {
    "name": "ipython",
    "version": 3
   },
   "file_extension": ".py",
   "mimetype": "text/x-python",
   "name": "python",
   "nbconvert_exporter": "python",
   "pygments_lexer": "ipython3",
   "version": "3.13.2"
  }
 },
 "nbformat": 4,
 "nbformat_minor": 5
}
